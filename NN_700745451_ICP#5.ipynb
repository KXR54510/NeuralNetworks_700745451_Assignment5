{
 "cells": [
  {
   "cell_type": "code",
   "execution_count": 190,
   "id": "37343576",
   "metadata": {},
   "outputs": [
    {
     "name": "stdout",
     "output_type": "stream",
     "text": [
      "Gaussian Naive Bayers Accuracy is: 46.3\n",
      "\n",
      "Classification Report:\n",
      "\n",
      "               precision    recall  f1-score   support\n",
      "\n",
      "           1       0.32      0.64      0.43        14\n",
      "           2       0.45      0.21      0.29        24\n",
      "           3       0.50      0.40      0.44         5\n",
      "           5       0.00      0.00      0.00         2\n",
      "           6       0.67      1.00      0.80         2\n",
      "           7       1.00      1.00      1.00         7\n",
      "\n",
      "    accuracy                           0.46        54\n",
      "   macro avg       0.49      0.54      0.49        54\n",
      "weighted avg       0.49      0.46      0.44        54\n",
      "\n"
     ]
    }
   ],
   "source": [
    "#Importing the libraries\n",
    "import pandas as pd\n",
    "import numpy as np\n",
    "import random as rnd\n",
    "\n",
    "from sklearn.naive_bayes import GaussianNB\n",
    "from sklearn.model_selection import train_test_split\n",
    "from sklearn.metrics import accuracy_score\n",
    "from sklearn import metrics\n",
    "\n",
    "from sklearn.svm import SVC, LinearSVC\n",
    "from sklearn.neighbors import KNeighborsClassifier\n",
    "\n",
    "# reading the dataset file \n",
    "df = pd.read_csv('glass.csv')\n",
    "\n",
    "X = df.drop(['Type'], axis=1)\n",
    "Y = df[\"Type\"]\n",
    "\n",
    "#splitting the dataset into training set and testing set\n",
    "X_Train, X_Test, Y_Train, Y_Test = train_test_split(X, Y, test_size=0.25,random_state = 0)\n",
    "\n",
    "#instantiating the Naive Bayes model and fitting it with traning set\n",
    "gnb = GaussianNB()\n",
    "gnb.fit(X_Train,Y_Train)\n",
    "\n",
    "# Predicting the Test set result\n",
    "Y_Pred = gnb.predict(X_Test)\n",
    "\n",
    "#evaluating the model\n",
    "print(\"Gaussian Naive Bayers Accuracy is:\",round(accuracy_score(Y_Test,Y_Pred) * 100,2))\n",
    "print(\"\\nClassification Report:\\n\\n\",metrics.classification_report(Y_Test,Y_Pred,zero_division=0))"
   ]
  },
  {
   "cell_type": "code",
   "execution_count": 191,
   "id": "e6349156",
   "metadata": {},
   "outputs": [
    {
     "name": "stdout",
     "output_type": "stream",
     "text": [
      "SVM accuracy is: 55.56\n",
      "\n",
      "Classification Report:\n",
      "\n",
      "               precision    recall  f1-score   support\n",
      "\n",
      "           1       0.43      0.86      0.57        14\n",
      "           2       0.60      0.38      0.46        24\n",
      "           3       0.00      0.00      0.00         5\n",
      "           5       0.67      1.00      0.80         2\n",
      "           6       0.00      0.00      0.00         2\n",
      "           7       1.00      1.00      1.00         7\n",
      "\n",
      "    accuracy                           0.56        54\n",
      "   macro avg       0.45      0.54      0.47        54\n",
      "weighted avg       0.53      0.56      0.51        54\n",
      "\n"
     ]
    }
   ],
   "source": [
    "#instantiating the linear SVM model and fitting it with traning set\n",
    "svc = SVC(kernel='linear')\n",
    "svc.fit(X_Train, Y_Train)\n",
    "\n",
    "# Predicting the Test set result\n",
    "Y_pred = svc.predict(X_Test)\n",
    "\n",
    "#evaluating the model\n",
    "print(\"SVM accuracy is:\", round(accuracy_score(Y_Test,Y_pred) * 100, 2))\n",
    "print(\"\\nClassification Report:\\n\\n\",metrics.classification_report(Y_Test,Y_pred,zero_division=0))"
   ]
  }
 ],
 "metadata": {
  "kernelspec": {
   "display_name": "Python 3 (ipykernel)",
   "language": "python",
   "name": "python3"
  },
  "language_info": {
   "codemirror_mode": {
    "name": "ipython",
    "version": 3
   },
   "file_extension": ".py",
   "mimetype": "text/x-python",
   "name": "python",
   "nbconvert_exporter": "python",
   "pygments_lexer": "ipython3",
   "version": "3.9.13"
  }
 },
 "nbformat": 4,
 "nbformat_minor": 5
}
